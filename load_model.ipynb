{
 "cells": [
  {
   "cell_type": "code",
   "execution_count": 1,
   "id": "90c2d1ea-719a-4346-b0ac-06e6ce83f2c1",
   "metadata": {},
   "outputs": [
    {
     "name": "stderr",
     "output_type": "stream",
     "text": [
      "2023-12-13 23:26:01.208932: I tensorflow/core/util/port.cc:113] oneDNN custom operations are on. You may see slightly different numerical results due to floating-point round-off errors from different computation orders. To turn them off, set the environment variable `TF_ENABLE_ONEDNN_OPTS=0`.\n",
      "2023-12-13 23:26:01.236659: E external/local_xla/xla/stream_executor/cuda/cuda_dnn.cc:9261] Unable to register cuDNN factory: Attempting to register factory for plugin cuDNN when one has already been registered\n",
      "2023-12-13 23:26:01.236688: E external/local_xla/xla/stream_executor/cuda/cuda_fft.cc:607] Unable to register cuFFT factory: Attempting to register factory for plugin cuFFT when one has already been registered\n",
      "2023-12-13 23:26:01.237408: E external/local_xla/xla/stream_executor/cuda/cuda_blas.cc:1515] Unable to register cuBLAS factory: Attempting to register factory for plugin cuBLAS when one has already been registered\n",
      "2023-12-13 23:26:01.241856: I tensorflow/core/platform/cpu_feature_guard.cc:182] This TensorFlow binary is optimized to use available CPU instructions in performance-critical operations.\n",
      "To enable the following instructions: AVX2 AVX512F AVX512_VNNI FMA, in other operations, rebuild TensorFlow with the appropriate compiler flags.\n",
      "2023-12-13 23:26:01.790874: W tensorflow/compiler/tf2tensorrt/utils/py_utils.cc:38] TF-TRT Warning: Could not find TensorRT\n"
     ]
    }
   ],
   "source": [
    "import os\n",
    "import librosa\n",
    "import matplotlib.pyplot as plt\n",
    "import pandas as pd\n",
    "import numpy as np\n",
    "import tensorflow as tf\n",
    "from tensorflow.keras.models import load_model"
   ]
  },
  {
   "cell_type": "code",
   "execution_count": 2,
   "id": "4c38691d-7ed2-4415-8833-6bb069d37598",
   "metadata": {},
   "outputs": [],
   "source": [
    "def preprocess_mfcc(audio_file_path, n_mfcc=18, fixed_length=200):\n",
    "    # Load the audio file\n",
    "    y, sr = librosa.load(audio_file_path)\n",
    "    \n",
    "    # Compute MFCCs\n",
    "    mfccs = librosa.feature.mfcc(y=y, sr=sr, n_mfcc=n_mfcc)\n",
    "    \n",
    "    # Pad or truncate MFCCs to the fixed length\n",
    "    if mfccs.shape[1] < fixed_length:\n",
    "        mfccs_padded = np.pad(mfccs, ((0, 0), (0, fixed_length - mfccs.shape[1])), mode='constant')\n",
    "    elif mfccs.shape[1] > fixed_length:\n",
    "        mfccs_padded = mfccs[:, :fixed_length]\n",
    "    else:\n",
    "        mfccs_padded = mfccs\n",
    "    \n",
    "    return mfccs_padded"
   ]
  },
  {
   "cell_type": "code",
   "execution_count": 10,
   "id": "61f8deb5-06b1-4d0d-a97c-ce0fa7cd3f50",
   "metadata": {},
   "outputs": [
    {
     "name": "stdout",
     "output_type": "stream",
     "text": [
      "WARNING:tensorflow:6 out of the last 6 calls to <function Model.make_predict_function.<locals>.predict_function at 0x7fa9183515e0> triggered tf.function retracing. Tracing is expensive and the excessive number of tracings could be due to (1) creating @tf.function repeatedly in a loop, (2) passing tensors with different shapes, (3) passing Python objects instead of tensors. For (1), please define your @tf.function outside of the loop. For (2), @tf.function has reduce_retracing=True option that can avoid unnecessary retracing. For (3), please refer to https://www.tensorflow.org/guide/function#controlling_retracing and https://www.tensorflow.org/api_docs/python/tf/function for  more details.\n",
      "1/1 [==============================] - 0s 52ms/step\n",
      "[[0.21646343]]\n",
      "0.21646343\n"
     ]
    }
   ],
   "source": [
    "# record_path = './dataset/1-3.wav'\n",
    "record_path = './false.wav'\n",
    "\n",
    "y, sr = librosa.load(record_path)\n",
    "mfccs = preprocess_mfcc(record_path)\n",
    "mfccs = np.expand_dims(mfccs, axis=0)\n",
    "\n",
    "model = load_model('./model/WATERMELON_CNN-7.hdf5')\n",
    "result = model.predict(mfccs)\n",
    "print(result)\n",
    "\n",
    "result = result[0][0]\n",
    "print(result)"
   ]
  },
  {
   "cell_type": "code",
   "execution_count": null,
   "id": "c764ab21-f977-4a44-9c8b-6a39754deda9",
   "metadata": {},
   "outputs": [],
   "source": []
  }
 ],
 "metadata": {
  "kernelspec": {
   "display_name": "Python 3 (ipykernel)",
   "language": "python",
   "name": "python3"
  },
  "language_info": {
   "codemirror_mode": {
    "name": "ipython",
    "version": 3
   },
   "file_extension": ".py",
   "mimetype": "text/x-python",
   "name": "python",
   "nbconvert_exporter": "python",
   "pygments_lexer": "ipython3",
   "version": "3.9.18"
  }
 },
 "nbformat": 4,
 "nbformat_minor": 5
}
