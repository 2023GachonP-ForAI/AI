{
 "cells": [
  {
   "cell_type": "code",
   "execution_count": 1,
   "id": "2a52e3eb-558b-4252-ac26-842e805cc653",
   "metadata": {},
   "outputs": [
    {
     "name": "stderr",
     "output_type": "stream",
     "text": [
      "2023-12-10 08:50:30.483234: I tensorflow/core/util/port.cc:113] oneDNN custom operations are on. You may see slightly different numerical results due to floating-point round-off errors from different computation orders. To turn them off, set the environment variable `TF_ENABLE_ONEDNN_OPTS=0`.\n",
      "2023-12-10 08:50:30.511279: E external/local_xla/xla/stream_executor/cuda/cuda_dnn.cc:9261] Unable to register cuDNN factory: Attempting to register factory for plugin cuDNN when one has already been registered\n",
      "2023-12-10 08:50:30.511318: E external/local_xla/xla/stream_executor/cuda/cuda_fft.cc:607] Unable to register cuFFT factory: Attempting to register factory for plugin cuFFT when one has already been registered\n",
      "2023-12-10 08:50:30.512058: E external/local_xla/xla/stream_executor/cuda/cuda_blas.cc:1515] Unable to register cuBLAS factory: Attempting to register factory for plugin cuBLAS when one has already been registered\n",
      "2023-12-10 08:50:30.516571: I tensorflow/core/platform/cpu_feature_guard.cc:182] This TensorFlow binary is optimized to use available CPU instructions in performance-critical operations.\n",
      "To enable the following instructions: AVX2 AVX512F AVX512_VNNI FMA, in other operations, rebuild TensorFlow with the appropriate compiler flags.\n",
      "2023-12-10 08:50:31.077581: W tensorflow/compiler/tf2tensorrt/utils/py_utils.cc:38] TF-TRT Warning: Could not find TensorRT\n"
     ]
    }
   ],
   "source": [
    "import os\n",
    "import librosa\n",
    "import matplotlib.pyplot as plt\n",
    "import pandas as pd\n",
    "import numpy as np\n",
    "import tensorflow as tf\n",
    "os.environ['TF_CPP_MIN_LOG_LEVEL'] = '3' "
   ]
  },
  {
   "cell_type": "code",
   "execution_count": 2,
   "id": "12d21378-4854-44df-b403-34c9ce2d54f4",
   "metadata": {},
   "outputs": [],
   "source": [
    "# Replace 'dataset_directory' with the path to your audio files directory\n",
    "dataset_directory = './dataset/'\n",
    "\n",
    "# Get a list of all audio filenames in the directory\n",
    "audio_files = [f for f in os.listdir(dataset_directory) if f.endswith('.wav')]\n",
    "\n",
    "# Create a DataFrame with filenames and labels\n",
    "data = {\n",
    "    'Filename': audio_files,\n",
    "    'Label': [0] * len(audio_files)  # Mark all labels as 0\n",
    "}\n",
    "\n",
    "df = pd.DataFrame(data)\n",
    "\n",
    "# Specify the CSV file path where you want to save the data\n",
    "csv_file_path = 'audio_filenames.csv'\n",
    "\n",
    "# Save the DataFrame to a CSV file\n",
    "df.to_csv(csv_file_path, index=False)"
   ]
  },
  {
   "cell_type": "code",
   "execution_count": 3,
   "id": "875c2710-dc15-47af-a1bc-0136593d8c47",
   "metadata": {},
   "outputs": [
    {
     "name": "stdout",
     "output_type": "stream",
     "text": [
      "    Filename  Label\n",
      "0    3-1.wav      0\n",
      "1    3-2.wav      0\n",
      "2    3-3.wav      0\n",
      "3    3-4.wav      0\n",
      "4    3-5.wav      0\n",
      "5    4-1.wav      0\n",
      "6    4-2.wav      0\n",
      "7    4-3.wav      0\n",
      "8    4-4.wav      0\n",
      "9    4-5.wav      0\n",
      "10   4-6.wav      0\n",
      "11   5-1.wav      0\n",
      "12   5-2.wav      0\n",
      "13   5-3.wav      0\n",
      "14   5-4.wav      0\n",
      "15   5-5.wav      0\n",
      "16   5-6.wav      0\n",
      "17   5-7.wav      0\n",
      "18   5-8.wav      0\n",
      "19   6-1.wav      0\n",
      "20  6-10.wav      0\n",
      "21  6-11.wav      0\n",
      "22   6-2.wav      0\n",
      "23   6-3.wav      0\n",
      "24   6-4.wav      0\n",
      "25   6-5.wav      0\n",
      "26   6-6.wav      0\n",
      "27   6-7.wav      0\n",
      "28   6-8.wav      0\n",
      "29   6-9.wav      0\n",
      "30   1-1.wav      0\n",
      "31  1-10.wav      0\n",
      "32  1-11.wav      0\n",
      "33   1-2.wav      0\n",
      "34   1-3.wav      0\n",
      "35   1-4.wav      0\n",
      "36   1-5.wav      0\n",
      "37   1-6.wav      0\n",
      "38   1-7.wav      0\n",
      "39   1-8.wav      0\n",
      "40   1-9.wav      0\n",
      "41   2-1.wav      0\n",
      "42  2-10.wav      0\n",
      "43  2-11.wav      0\n",
      "44  2-12.wav      0\n",
      "45  2-13.wav      0\n",
      "46   2-2.wav      0\n",
      "47   2-3.wav      0\n",
      "48   2-4.wav      0\n",
      "49   2-5.wav      0\n",
      "50   2-6.wav      0\n",
      "51   2-7.wav      0\n",
      "52   2-8.wav      0\n",
      "53   2-9.wav      0\n"
     ]
    }
   ],
   "source": [
    "# Replace 'csv_file_path' with the path to your CSV file\n",
    "csv_file_path = 'audio_filenames.csv'\n",
    "\n",
    "# Load the CSV file into a DataFrame\n",
    "df = pd.read_csv(csv_file_path)\n",
    "\n",
    "# Print the contents of the DataFrame\n",
    "print(df)"
   ]
  },
  {
   "cell_type": "code",
   "execution_count": 6,
   "id": "5e22f04e-7aed-4eba-a877-b1e22e47327e",
   "metadata": {},
   "outputs": [
    {
     "name": "stdout",
     "output_type": "stream",
     "text": [
      "    Filename  Label\n",
      "0    3-1.wav      1\n",
      "1    3-2.wav      1\n",
      "2    3-3.wav      1\n",
      "3    3-4.wav      1\n",
      "4    3-5.wav      1\n",
      "5    4-1.wav      1\n",
      "6    4-2.wav      1\n",
      "7    4-3.wav      1\n",
      "8    4-4.wav      1\n",
      "9    4-5.wav      1\n",
      "10   4-6.wav      1\n",
      "11   5-1.wav      0\n",
      "12   5-2.wav      0\n",
      "13   5-3.wav      0\n",
      "14   5-4.wav      0\n",
      "15   5-5.wav      0\n",
      "16   5-6.wav      0\n",
      "17   5-7.wav      0\n",
      "18   5-8.wav      0\n",
      "19   6-1.wav      0\n",
      "20  6-10.wav      0\n",
      "21  6-11.wav      0\n",
      "22   6-2.wav      0\n",
      "23   6-3.wav      0\n",
      "24   6-4.wav      0\n",
      "25   6-5.wav      0\n",
      "26   6-6.wav      0\n",
      "27   6-7.wav      0\n",
      "28   6-8.wav      0\n",
      "29   6-9.wav      0\n",
      "30   1-1.wav      1\n",
      "31  1-10.wav      1\n",
      "32  1-11.wav      1\n",
      "33   1-2.wav      1\n",
      "34   1-3.wav      1\n",
      "35   1-4.wav      1\n",
      "36   1-5.wav      1\n",
      "37   1-6.wav      1\n",
      "38   1-7.wav      1\n",
      "39   1-8.wav      1\n",
      "40   1-9.wav      1\n",
      "41   2-1.wav      0\n",
      "42  2-10.wav      0\n",
      "43  2-11.wav      0\n",
      "44  2-12.wav      0\n",
      "45  2-13.wav      0\n",
      "46   2-2.wav      0\n",
      "47   2-3.wav      0\n",
      "48   2-4.wav      0\n",
      "49   2-5.wav      0\n",
      "50   2-6.wav      0\n",
      "51   2-7.wav      0\n",
      "52   2-8.wav      0\n",
      "53   2-9.wav      0\n"
     ]
    }
   ],
   "source": [
    "# change Label that filename startwith 4\n",
    "df['Label'] = df.apply(lambda row: 1 if row['Filename'].startswith(('1', '3', '4')) else row['Label'], axis=1)\n",
    "print(df)"
   ]
  },
  {
   "cell_type": "code",
   "execution_count": 7,
   "id": "ef482334-b3b4-4a21-94e2-f0b6f76d9de7",
   "metadata": {},
   "outputs": [],
   "source": [
    "# df.to_csv(csv_file_path, index=False)"
   ]
  },
  {
   "cell_type": "code",
   "execution_count": null,
   "id": "ba151f7d-bba7-4bbf-9dbb-e33ea7bd8e39",
   "metadata": {},
   "outputs": [],
   "source": []
  }
 ],
 "metadata": {
  "kernelspec": {
   "display_name": "Python 3 (ipykernel)",
   "language": "python",
   "name": "python3"
  },
  "language_info": {
   "codemirror_mode": {
    "name": "ipython",
    "version": 3
   },
   "file_extension": ".py",
   "mimetype": "text/x-python",
   "name": "python",
   "nbconvert_exporter": "python",
   "pygments_lexer": "ipython3",
   "version": "3.9.18"
  }
 },
 "nbformat": 4,
 "nbformat_minor": 5
}
