{
 "cells": [
  {
   "cell_type": "code",
   "execution_count": 1,
   "id": "2a52e3eb-558b-4252-ac26-842e805cc653",
   "metadata": {},
   "outputs": [],
   "source": [
    "import os\n",
    "import pandas as pd"
   ]
  },
  {
   "cell_type": "code",
   "execution_count": 2,
   "id": "12d21378-4854-44df-b403-34c9ce2d54f4",
   "metadata": {},
   "outputs": [],
   "source": [
    "# Replace 'dataset_directory' with the path to your audio files directory\n",
    "dataset_directory = './dataset/'\n",
    "\n",
    "# Get a list of all audio filenames in the directory\n",
    "audio_files = [f for f in os.listdir(dataset_directory) if f.endswith('.wav')]\n",
    "\n",
    "# Create a DataFrame with filenames and labels\n",
    "data = {\n",
    "    'Filename': audio_files,\n",
    "    'Label': [0] * len(audio_files)  # Mark all labels as 0\n",
    "}\n",
    "\n",
    "df = pd.DataFrame(data)\n",
    "\n",
    "# Specify the CSV file path where you want to save the data\n",
    "csv_file_path = 'audio_filenames.csv'\n",
    "\n",
    "# Save the DataFrame to a CSV file\n",
    "df.to_csv(csv_file_path, index=False)"
   ]
  },
  {
   "cell_type": "code",
   "execution_count": 3,
   "id": "875c2710-dc15-47af-a1bc-0136593d8c47",
   "metadata": {},
   "outputs": [
    {
     "name": "stdout",
     "output_type": "stream",
     "text": [
      "              Filename  Label\n",
      "0              3-1.wav      0\n",
      "1              3-2.wav      0\n",
      "2              3-3.wav      0\n",
      "3              3-4.wav      0\n",
      "4              3-5.wav      0\n",
      "..                 ...    ...\n",
      "392  1702427622356.wav      0\n",
      "393  1702427664296.wav      0\n",
      "394  1702427681360.wav      0\n",
      "395  1702427707979.wav      0\n",
      "396  1702427725691.wav      0\n",
      "\n",
      "[397 rows x 2 columns]\n"
     ]
    }
   ],
   "source": [
    "# Replace 'csv_file_path' with the path to your CSV file\n",
    "csv_file_path = 'audio_filenames.csv'\n",
    "\n",
    "# Load the CSV file into a DataFrame\n",
    "df = pd.read_csv(csv_file_path)\n",
    "\n",
    "# Print the contents of the DataFrame\n",
    "print(df)"
   ]
  },
  {
   "cell_type": "code",
   "execution_count": 4,
   "id": "5e22f04e-7aed-4eba-a877-b1e22e47327e",
   "metadata": {},
   "outputs": [
    {
     "name": "stdout",
     "output_type": "stream",
     "text": [
      "              Filename  Label\n",
      "0              3-1.wav      1\n",
      "1              3-2.wav      1\n",
      "2              3-3.wav      1\n",
      "3              3-4.wav      1\n",
      "4              3-5.wav      1\n",
      "..                 ...    ...\n",
      "392  1702427622356.wav      0\n",
      "393  1702427664296.wav      0\n",
      "394  1702427681360.wav      0\n",
      "395  1702427707979.wav      0\n",
      "396  1702427725691.wav      0\n",
      "\n",
      "[397 rows x 2 columns]\n"
     ]
    }
   ],
   "source": [
    "# change Label that filename startwith 4\n",
    "df['Label'] = df.apply(lambda row: 1 if row['Filename'].startswith(('3', '4')) else row['Label'], axis=1)\n",
    "print(df)"
   ]
  },
  {
   "cell_type": "code",
   "execution_count": 5,
   "id": "ef482334-b3b4-4a21-94e2-f0b6f76d9de7",
   "metadata": {},
   "outputs": [],
   "source": [
    "df.to_csv(csv_file_path, index=False)"
   ]
  },
  {
   "cell_type": "code",
   "execution_count": null,
   "id": "ba151f7d-bba7-4bbf-9dbb-e33ea7bd8e39",
   "metadata": {},
   "outputs": [],
   "source": []
  }
 ],
 "metadata": {
  "kernelspec": {
   "display_name": "Python 3 (ipykernel)",
   "language": "python",
   "name": "python3"
  },
  "language_info": {
   "codemirror_mode": {
    "name": "ipython",
    "version": 3
   },
   "file_extension": ".py",
   "mimetype": "text/x-python",
   "name": "python",
   "nbconvert_exporter": "python",
   "pygments_lexer": "ipython3",
   "version": "3.9.18"
  }
 },
 "nbformat": 4,
 "nbformat_minor": 5
}
